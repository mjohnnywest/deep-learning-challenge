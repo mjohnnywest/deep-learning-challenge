{
 "cells": [
  {
   "cell_type": "markdown",
   "id": "cbe92f42-e2c4-4bd4-9cf6-4eef4bc01e63",
   "metadata": {},
   "source": [
    "## Target vs Features\n",
    "\n",
    "In this model, the target is the \"IF_SUCCESSFUL\" column. This determines whether or not the venture was successful\n",
    "\n",
    "The features in this model are all the other columns, other than EIN and Name. The model looks at the features and finds patterens on which features tend to lead to successes or failures\n",
    "\n",
    "EIN and Name are non-feature columns-- neither of these should affect on whether or not the venture is successful, and may throw the model off if they are included"
   ]
  },
  {
   "cell_type": "markdown",
   "id": "a51cafee-49ee-4391-8b5b-d12af1df4727",
   "metadata": {},
   "source": [
    "## Compiling, Training, and Evaluating the Model\n",
    "\n",
    "I used 8, 4 and 1 neurons\n",
    "\n",
    "I did not get the desired outcome\n",
    "\n",
    "I tweaked the numbers of neurons and tried changing the activation in one attempt"
   ]
  },
  {
   "cell_type": "code",
   "execution_count": null,
   "id": "8d1a4c60-2686-40ad-8319-99e016903e8f",
   "metadata": {},
   "outputs": [],
   "source": []
  }
 ],
 "metadata": {
  "kernelspec": {
   "display_name": "Python 3 (ipykernel)",
   "language": "python",
   "name": "python3"
  },
  "language_info": {
   "codemirror_mode": {
    "name": "ipython",
    "version": 3
   },
   "file_extension": ".py",
   "mimetype": "text/x-python",
   "name": "python",
   "nbconvert_exporter": "python",
   "pygments_lexer": "ipython3",
   "version": "3.9.21"
  }
 },
 "nbformat": 4,
 "nbformat_minor": 5
}
